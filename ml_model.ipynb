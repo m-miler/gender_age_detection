{
 "cells": [
  {
   "cell_type": "markdown",
   "metadata": {},
   "source": [
    "# Imports"
   ]
  },
  {
   "cell_type": "markdown",
   "metadata": {},
   "source": [
    "Import basic packages"
   ]
  },
  {
   "cell_type": "code",
   "execution_count": 28,
   "metadata": {},
   "outputs": [],
   "source": [
    "import pandas as pd\n",
    "import numpy as np\n",
    "import matplotlib.pyplot as plt\n",
    "import os"
   ]
  },
  {
   "cell_type": "code",
   "execution_count": 96,
   "metadata": {},
   "outputs": [],
   "source": [
    "os.environ['CUDA_VISIBLE_DEVICES'] = '-1'"
   ]
  },
  {
   "cell_type": "markdown",
   "metadata": {},
   "source": [
    "# Read The Data"
   ]
  },
  {
   "cell_type": "code",
   "execution_count": 30,
   "metadata": {},
   "outputs": [],
   "source": [
    "txt_data = []\n",
    "relative_path = os.path.join(os.getcwd(), 'data', 'AdienceBenchmarkGenderAndAgeClassification')\n",
    "\n",
    "for file in os.listdir(relative_path):\n",
    "    if file.endswith('.txt'):\n",
    "       txt_data.append(pd.read_csv(os.path.join(relative_path, file), sep='\\t'))\n",
    "\n",
    "raw_data = pd.concat(txt_data, ignore_index=True)"
   ]
  },
  {
   "cell_type": "markdown",
   "metadata": {},
   "source": [
    "Columns description:\n",
    "\n",
    "1. user_id - folder name with correct images \n",
    "2. orginal_image - name of image in the folder\n",
    "3. face_id - id of face on the image\n",
    "4. age - age feature \n",
    "5. gender - gender feature "
   ]
  },
  {
   "cell_type": "code",
   "execution_count": 31,
   "metadata": {},
   "outputs": [
    {
     "data": {
      "text/html": [
       "<div>\n",
       "<style scoped>\n",
       "    .dataframe tbody tr th:only-of-type {\n",
       "        vertical-align: middle;\n",
       "    }\n",
       "\n",
       "    .dataframe tbody tr th {\n",
       "        vertical-align: top;\n",
       "    }\n",
       "\n",
       "    .dataframe thead th {\n",
       "        text-align: right;\n",
       "    }\n",
       "</style>\n",
       "<table border=\"1\" class=\"dataframe\">\n",
       "  <thead>\n",
       "    <tr style=\"text-align: right;\">\n",
       "      <th></th>\n",
       "      <th>user_id</th>\n",
       "      <th>original_image</th>\n",
       "      <th>face_id</th>\n",
       "      <th>age</th>\n",
       "      <th>gender</th>\n",
       "      <th>x</th>\n",
       "      <th>y</th>\n",
       "      <th>dx</th>\n",
       "      <th>dy</th>\n",
       "      <th>tilt_ang</th>\n",
       "      <th>fiducial_yaw_angle</th>\n",
       "      <th>fiducial_score</th>\n",
       "    </tr>\n",
       "  </thead>\n",
       "  <tbody>\n",
       "    <tr>\n",
       "      <th>0</th>\n",
       "      <td>30601258@N03</td>\n",
       "      <td>10399646885_67c7d20df9_o.jpg</td>\n",
       "      <td>1</td>\n",
       "      <td>(25, 32)</td>\n",
       "      <td>f</td>\n",
       "      <td>0</td>\n",
       "      <td>414</td>\n",
       "      <td>1086</td>\n",
       "      <td>1383</td>\n",
       "      <td>-115</td>\n",
       "      <td>30</td>\n",
       "      <td>17</td>\n",
       "    </tr>\n",
       "    <tr>\n",
       "      <th>1</th>\n",
       "      <td>30601258@N03</td>\n",
       "      <td>10424815813_e94629b1ec_o.jpg</td>\n",
       "      <td>2</td>\n",
       "      <td>(25, 32)</td>\n",
       "      <td>m</td>\n",
       "      <td>301</td>\n",
       "      <td>105</td>\n",
       "      <td>640</td>\n",
       "      <td>641</td>\n",
       "      <td>0</td>\n",
       "      <td>0</td>\n",
       "      <td>94</td>\n",
       "    </tr>\n",
       "    <tr>\n",
       "      <th>2</th>\n",
       "      <td>30601258@N03</td>\n",
       "      <td>10437979845_5985be4b26_o.jpg</td>\n",
       "      <td>1</td>\n",
       "      <td>(25, 32)</td>\n",
       "      <td>f</td>\n",
       "      <td>2395</td>\n",
       "      <td>876</td>\n",
       "      <td>771</td>\n",
       "      <td>771</td>\n",
       "      <td>175</td>\n",
       "      <td>-30</td>\n",
       "      <td>74</td>\n",
       "    </tr>\n",
       "    <tr>\n",
       "      <th>3</th>\n",
       "      <td>30601258@N03</td>\n",
       "      <td>10437979845_5985be4b26_o.jpg</td>\n",
       "      <td>3</td>\n",
       "      <td>(25, 32)</td>\n",
       "      <td>m</td>\n",
       "      <td>752</td>\n",
       "      <td>1255</td>\n",
       "      <td>484</td>\n",
       "      <td>485</td>\n",
       "      <td>180</td>\n",
       "      <td>0</td>\n",
       "      <td>47</td>\n",
       "    </tr>\n",
       "    <tr>\n",
       "      <th>4</th>\n",
       "      <td>30601258@N03</td>\n",
       "      <td>11816644924_075c3d8d59_o.jpg</td>\n",
       "      <td>2</td>\n",
       "      <td>(25, 32)</td>\n",
       "      <td>m</td>\n",
       "      <td>175</td>\n",
       "      <td>80</td>\n",
       "      <td>769</td>\n",
       "      <td>768</td>\n",
       "      <td>-75</td>\n",
       "      <td>0</td>\n",
       "      <td>34</td>\n",
       "    </tr>\n",
       "  </tbody>\n",
       "</table>\n",
       "</div>"
      ],
      "text/plain": [
       "        user_id                original_image  face_id       age gender     x  \\\n",
       "0  30601258@N03  10399646885_67c7d20df9_o.jpg        1  (25, 32)      f     0   \n",
       "1  30601258@N03  10424815813_e94629b1ec_o.jpg        2  (25, 32)      m   301   \n",
       "2  30601258@N03  10437979845_5985be4b26_o.jpg        1  (25, 32)      f  2395   \n",
       "3  30601258@N03  10437979845_5985be4b26_o.jpg        3  (25, 32)      m   752   \n",
       "4  30601258@N03  11816644924_075c3d8d59_o.jpg        2  (25, 32)      m   175   \n",
       "\n",
       "      y    dx    dy  tilt_ang  fiducial_yaw_angle  fiducial_score  \n",
       "0   414  1086  1383      -115                  30              17  \n",
       "1   105   640   641         0                   0              94  \n",
       "2   876   771   771       175                 -30              74  \n",
       "3  1255   484   485       180                   0              47  \n",
       "4    80   769   768       -75                   0              34  "
      ]
     },
     "execution_count": 31,
     "metadata": {},
     "output_type": "execute_result"
    }
   ],
   "source": [
    "raw_data.head()"
   ]
  },
  {
   "cell_type": "code",
   "execution_count": 32,
   "metadata": {},
   "outputs": [],
   "source": [
    "#Create an absolute paths to dataset which contains images for our model\n",
    "#Path should look like follows - path to folder with data/ faces/ user_id/ 'coarse_tilt_aligned_face.'/ face_id/ orginal_image\n",
    "\n",
    "raw_data.loc[:, 'img_folder_path'] = raw_data.apply(lambda row: os.path.join(relative_path, 'faces', row.user_id), axis=1)\n",
    "raw_data.loc[:, 'img_name'] = raw_data.apply(lambda row: 'coarse_tilt_aligned_face.' + str(row.face_id) + '.' + row.original_image, axis=1)\n",
    "raw_data.loc[:, 'img_absolute_path'] = raw_data.apply(lambda row: os.path.join(row.img_folder_path, row.img_name), axis=1)"
   ]
  },
  {
   "cell_type": "code",
   "execution_count": 33,
   "metadata": {},
   "outputs": [
    {
     "data": {
      "image/png": "[encoded data removed]",
      "text/plain": [
       "<Figure size 432x288 with 1 Axes>"
      ]
     },
     "metadata": {
      "needs_background": "light"
     },
     "output_type": "display_data"
    }
   ],
   "source": [
    "#Check if the absolute path loads images from a folder\n",
    "\n",
    "from keras.preprocessing.image import load_img\n",
    "\n",
    "img = load_img(raw_data.img_absolute_path.iloc[0])\n",
    "plt.imshow(img)\n",
    "plt.show()"
   ]
  },
  {
   "cell_type": "markdown",
   "metadata": {},
   "source": [
    "# Preprocessing dataset\n"
   ]
  },
  {
   "cell_type": "markdown",
   "metadata": {},
   "source": [
    "1. Check if data contains a missing values"
   ]
  },
  {
   "cell_type": "code",
   "execution_count": 34,
   "metadata": {},
   "outputs": [
    {
     "data": {
      "text/plain": [
       "user_id                 0\n",
       "original_image          0\n",
       "face_id                 0\n",
       "age                     0\n",
       "gender                779\n",
       "x                       0\n",
       "y                       0\n",
       "dx                      0\n",
       "dy                      0\n",
       "tilt_ang                0\n",
       "fiducial_yaw_angle      0\n",
       "fiducial_score          0\n",
       "img_folder_path         0\n",
       "img_name                0\n",
       "img_absolute_path       0\n",
       "dtype: int64"
      ]
     },
     "execution_count": 34,
     "metadata": {},
     "output_type": "execute_result"
    }
   ],
   "source": [
    "raw_data.isnull().sum()"
   ]
  },
  {
   "cell_type": "code",
   "execution_count": 35,
   "metadata": {},
   "outputs": [],
   "source": [
    "#Drop NA data from gender column\n",
    "raw_data.dropna(subset=['gender'], inplace=True)"
   ]
  },
  {
   "cell_type": "code",
   "execution_count": 36,
   "metadata": {},
   "outputs": [
    {
     "data": {
      "text/plain": [
       "f    9372\n",
       "m    8120\n",
       "u    1099\n",
       "Name: gender, dtype: int64"
      ]
     },
     "execution_count": 36,
     "metadata": {},
     "output_type": "execute_result"
    }
   ],
   "source": [
    "# f = female, m=male, u=unidentified \n",
    "raw_data.gender.value_counts()"
   ]
  },
  {
   "cell_type": "code",
   "execution_count": 37,
   "metadata": {},
   "outputs": [],
   "source": [
    "#Drop 'u' data from gender which is unidentified\n",
    "raw_data = raw_data[raw_data.gender != 'u']"
   ]
  },
  {
   "cell_type": "code",
   "execution_count": 38,
   "metadata": {},
   "outputs": [
    {
     "data": {
      "text/plain": [
       "array(['(25, 32)', '(38, 43)', '(4, 6)', '(60, 100)', '(15, 20)',\n",
       "       '(48, 53)', '(8, 12)', '(0, 2)', '(38, 48)', '35', '3', '55', '58',\n",
       "       '22', '13', '45', '36', '23', '(38, 42)', 'None', '(8, 23)',\n",
       "       '(27, 32)', '57', '2', '29', '34', '42', '46'], dtype=object)"
      ]
     },
     "execution_count": 38,
     "metadata": {},
     "output_type": "execute_result"
    }
   ],
   "source": [
    "#Look at age column\n",
    "raw_data.age.unique()"
   ]
  },
  {
   "cell_type": "code",
   "execution_count": 39,
   "metadata": {},
   "outputs": [],
   "source": [
    "#Drop data where age is unkonow\n",
    "raw_data = raw_data[raw_data.age != 'None']"
   ]
  },
  {
   "cell_type": "code",
   "execution_count": 40,
   "metadata": {},
   "outputs": [
    {
     "name": "stdout",
     "output_type": "stream",
     "text": [
      "<class 'pandas.core.frame.DataFrame'>\n",
      "Int64Index: 17452 entries, 0 to 19345\n",
      "Data columns (total 15 columns):\n",
      " #   Column              Non-Null Count  Dtype \n",
      "---  ------              --------------  ----- \n",
      " 0   user_id             17452 non-null  object\n",
      " 1   original_image      17452 non-null  object\n",
      " 2   face_id             17452 non-null  int64 \n",
      " 3   age                 17452 non-null  object\n",
      " 4   gender              17452 non-null  object\n",
      " 5   x                   17452 non-null  int64 \n",
      " 6   y                   17452 non-null  int64 \n",
      " 7   dx                  17452 non-null  int64 \n",
      " 8   dy                  17452 non-null  int64 \n",
      " 9   tilt_ang            17452 non-null  int64 \n",
      " 10  fiducial_yaw_angle  17452 non-null  int64 \n",
      " 11  fiducial_score      17452 non-null  int64 \n",
      " 12  img_folder_path     17452 non-null  object\n",
      " 13  img_name            17452 non-null  object\n",
      " 14  img_absolute_path   17452 non-null  object\n",
      "dtypes: int64(8), object(7)\n",
      "memory usage: 2.1+ MB\n"
     ]
    }
   ],
   "source": [
    "raw_data.info()"
   ]
  },
  {
   "cell_type": "code",
   "execution_count": 41,
   "metadata": {},
   "outputs": [],
   "source": [
    "#Select data which will be needed to train and test models\n",
    "data = raw_data[['age', 'gender', 'img_absolute_path']]"
   ]
  },
  {
   "cell_type": "code",
   "execution_count": 42,
   "metadata": {},
   "outputs": [],
   "source": [
    "#Encode gender categorical data to numeric \n",
    "data = data.replace({'gender': {'f': 0, 'm': 1}})"
   ]
  },
  {
   "cell_type": "code",
   "execution_count": 43,
   "metadata": {},
   "outputs": [
    {
     "data": {
      "text/plain": [
       "array(['(25, 32)', '(38, 43)', '(4, 6)', '(60, 100)', '(15, 20)',\n",
       "       '(48, 53)', '(8, 12)', '(0, 2)', '(38, 48)', '35', '3', '55', '58',\n",
       "       '22', '13', '45', '36', '23', '(38, 42)', '(8, 23)', '(27, 32)',\n",
       "       '57', '2', '29', '34', '42', '46'], dtype=object)"
      ]
     },
     "execution_count": 43,
     "metadata": {},
     "output_type": "execute_result"
    }
   ],
   "source": [
    "#Encode age values\n",
    "data.age.unique()"
   ]
  },
  {
   "cell_type": "code",
   "execution_count": 44,
   "metadata": {},
   "outputs": [],
   "source": [
    "#Manual age mapping list with correct age structure\n",
    "age_mapping= [('(0, 2)', '0-2'), ('2', '0-2'), ('3', '0-2'), ('(4, 6)', '4-6'), ('(8, 12)', '8-13'), ('13', '8-13'), ('22', '15-20'), ('(8, 23)','15-20'), ('23', '25-32'), \n",
    "('(15, 20)', '15-20'), ('(25, 32)', '25-32'), ('(27, 32)', '25-32'), ('32', '25-32'), ('34', '25-32'), ('29', '25-32'), ('(38, 42)', '38-43'), ('35', '38-43'), ('36', '38-43'), \n",
    "('42', '48-53'), ('45', '38-43'), ('(38, 43)', '38-43'), ('(38, 42)', '38-43'), ('(38, 48)', '48-53'), ('46', '48-53'), ('(48, 53)', '48-53'), ('55', '48-53'), ('56', '48-53'), \n",
    "('(60, 100)', '60+'), ('57', '60+'), ('58', '60+')]\n",
    "\n",
    "#Make a dict for a correct age structure\n",
    "age_mapping_dict = {x[0]: x[1] for x in age_mapping}"
   ]
  },
  {
   "cell_type": "code",
   "execution_count": 45,
   "metadata": {},
   "outputs": [],
   "source": [
    "#Encode categorical age data to numeric\n",
    "age_dict =  {'0-2': 0, '4-6': 1, '8-13': 2, '15-20': 3, '25-32': 4, '38-43': 5, '48-53': 6, '60+': 7}\n",
    "data.loc[:, 'age'] = data.apply(lambda row: age_dict[age_mapping_dict[row.age]], axis=1)"
   ]
  },
  {
   "cell_type": "code",
   "execution_count": 46,
   "metadata": {},
   "outputs": [
    {
     "data": {
      "text/html": [
       "<div>\n",
       "<style scoped>\n",
       "    .dataframe tbody tr th:only-of-type {\n",
       "        vertical-align: middle;\n",
       "    }\n",
       "\n",
       "    .dataframe tbody tr th {\n",
       "        vertical-align: top;\n",
       "    }\n",
       "\n",
       "    .dataframe thead th {\n",
       "        text-align: right;\n",
       "    }\n",
       "</style>\n",
       "<table border=\"1\" class=\"dataframe\">\n",
       "  <thead>\n",
       "    <tr style=\"text-align: right;\">\n",
       "      <th></th>\n",
       "      <th>age</th>\n",
       "      <th>gender</th>\n",
       "      <th>img_absolute_path</th>\n",
       "    </tr>\n",
       "  </thead>\n",
       "  <tbody>\n",
       "    <tr>\n",
       "      <th>0</th>\n",
       "      <td>4</td>\n",
       "      <td>0</td>\n",
       "      <td>f:\\Data_Science\\5_Projects\\gender_age_detectio...</td>\n",
       "    </tr>\n",
       "    <tr>\n",
       "      <th>1</th>\n",
       "      <td>4</td>\n",
       "      <td>1</td>\n",
       "      <td>f:\\Data_Science\\5_Projects\\gender_age_detectio...</td>\n",
       "    </tr>\n",
       "    <tr>\n",
       "      <th>2</th>\n",
       "      <td>4</td>\n",
       "      <td>0</td>\n",
       "      <td>f:\\Data_Science\\5_Projects\\gender_age_detectio...</td>\n",
       "    </tr>\n",
       "    <tr>\n",
       "      <th>3</th>\n",
       "      <td>4</td>\n",
       "      <td>1</td>\n",
       "      <td>f:\\Data_Science\\5_Projects\\gender_age_detectio...</td>\n",
       "    </tr>\n",
       "    <tr>\n",
       "      <th>4</th>\n",
       "      <td>4</td>\n",
       "      <td>1</td>\n",
       "      <td>f:\\Data_Science\\5_Projects\\gender_age_detectio...</td>\n",
       "    </tr>\n",
       "  </tbody>\n",
       "</table>\n",
       "</div>"
      ],
      "text/plain": [
       "   age  gender                                  img_absolute_path\n",
       "0    4       0  f:\\Data_Science\\5_Projects\\gender_age_detectio...\n",
       "1    4       1  f:\\Data_Science\\5_Projects\\gender_age_detectio...\n",
       "2    4       0  f:\\Data_Science\\5_Projects\\gender_age_detectio...\n",
       "3    4       1  f:\\Data_Science\\5_Projects\\gender_age_detectio...\n",
       "4    4       1  f:\\Data_Science\\5_Projects\\gender_age_detectio..."
      ]
     },
     "execution_count": 46,
     "metadata": {},
     "output_type": "execute_result"
    }
   ],
   "source": [
    "data.head()"
   ]
  },
  {
   "cell_type": "markdown",
   "metadata": {},
   "source": [
    "# Train Test Split"
   ]
  },
  {
   "cell_type": "markdown",
   "metadata": {},
   "source": [
    "Split data on train_test values, in our case we split the absolute path to folders, where we store ours images. \n",
    "After this step we will preproces each image and store them in the lists. "
   ]
  },
  {
   "cell_type": "code",
   "execution_count": 47,
   "metadata": {},
   "outputs": [],
   "source": [
    "from sklearn.model_selection import train_test_split\n",
    "from tensorflow.keras.utils import to_categorical\n",
    "\n",
    "X_gender = data['img_absolute_path']\n",
    "y_gender = to_categorical(data['gender'])\n",
    "\n",
    "X_age = data['img_absolute_path']\n",
    "y_age = to_categorical(data['age'])\n",
    "\n",
    "\n",
    "X_train_gender, X_test_gender, y_train_gedner, y_test_gender = train_test_split(X_gender, y_gender, test_size=0.2, random_state=42)\n",
    "X_train_age, X_test_age, y_train_age, y_test_age = train_test_split(X_age, y_age, test_size=0.2, random_state=42)"
   ]
  },
  {
   "cell_type": "markdown",
   "metadata": {},
   "source": [
    "# Images Preprocesing"
   ]
  },
  {
   "cell_type": "markdown",
   "metadata": {},
   "source": [
    "1. Gender train and test images preprocesing"
   ]
  },
  {
   "cell_type": "code",
   "execution_count": 48,
   "metadata": {},
   "outputs": [],
   "source": [
    "from keras.preprocessing.image import img_to_array, load_img\n",
    "from PIL import Image\n",
    "\n",
    "def resize_array_img(img_path): \n",
    "    image_array = img_to_array(Image.open(img_path).resize((224, 224)))\n",
    "    return image_array\n",
    "\n",
    "train_images_gender = []\n",
    "test_images_gender = []\n",
    "\n",
    "for img_path in X_train_gender:\n",
    "    img_data = resize_array_img(img_path=img_path)\n",
    "    train_images_gender.append(img_data)\n",
    "\n",
    "\n",
    "for img_path in X_test_gender:\n",
    "    img_data = resize_array_img(img_path=img_path)\n",
    "    test_images_gender.append(img_data)\n",
    "\n",
    "\n",
    "train_images_gender =  np.asarray(train_images_gender) / 255\n",
    "test_images_gender =  np.asarray(test_images_gender) / 255\n",
    "\n"
   ]
  },
  {
   "cell_type": "markdown",
   "metadata": {},
   "source": [
    "2. Age train and test images preprocesing"
   ]
  },
  {
   "cell_type": "code",
   "execution_count": 49,
   "metadata": {},
   "outputs": [],
   "source": [
    "train_images_age = []\n",
    "test_images_age = []\n",
    "\n",
    "for img_path in X_train_age:\n",
    "    img_data = resize_array_img(img_path=img_path)\n",
    "    train_images_age.append(img_data)\n",
    "\n",
    "\n",
    "for img_path in X_test_age:\n",
    "    img_data = resize_array_img(img_path=img_path)\n",
    "    test_images_age.append(img_data)\n",
    "\n",
    "train_images_age =  np.asarray(train_images_age) / 255\n",
    "test_images_age =  np.asarray(test_images_age) / 255\n",
    "\n"
   ]
  },
  {
   "cell_type": "markdown",
   "metadata": {},
   "source": [
    "# Create gender and age models"
   ]
  },
  {
   "cell_type": "markdown",
   "metadata": {},
   "source": [
    "0. Early Stopping"
   ]
  },
  {
   "cell_type": "code",
   "execution_count": 50,
   "metadata": {},
   "outputs": [],
   "source": [
    "from tensorflow.keras.callbacks import EarlyStopping\n",
    "\n",
    "early_stopping = EarlyStopping(monitor='val_loss', patience=5)"
   ]
  },
  {
   "cell_type": "markdown",
   "metadata": {},
   "source": [
    "1. Create a gender model base on traning dataset"
   ]
  },
  {
   "cell_type": "code",
   "execution_count": 55,
   "metadata": {},
   "outputs": [],
   "source": [
    "from tensorflow.keras.models import Sequential\n",
    "from tensorflow.keras.layers import Conv2D, MaxPooling2D, Dropout, Flatten, Dense, LayerNormalization\n",
    "\n",
    "def create_gender_model():\n",
    "    model = Sequential()\n",
    "    model.add(Conv2D(filters=96, kernel_size=(7, 7), strides=4, padding='same', activation='relu', input_shape=(224, 224, 3)))\n",
    "    model.add(MaxPooling2D(pool_size=(3,3),strides=(2,2), padding='valid'))\n",
    "    model.add(LayerNormalization())\n",
    "\n",
    "    model.add(Conv2D(filters=256, kernel_size=(3, 3), strides=1, padding='same', activation='relu'))\n",
    "    model.add(MaxPooling2D(pool_size=(2,2),strides=(2,2), padding='valid'))\n",
    "    model.add(LayerNormalization())\n",
    "\n",
    "    model.add(Conv2D(filters=384, kernel_size=(2, 2), strides=1, padding='same', activation='relu'))\n",
    "    model.add(MaxPooling2D(pool_size=(2,2),strides=(2,2), padding='valid'))\n",
    "    model.add(LayerNormalization())\n",
    "\n",
    "    model.add(Flatten())\n",
    "\n",
    "    model.add(Dense(units=512, activation='relu'))\n",
    "    model.add(Dropout(rate=0.15))\n",
    "\n",
    "    model.add(Dense(units=256, activation='relu'))\n",
    "    model.add(Dropout(rate=0.25))\n",
    "    \n",
    "    model.add(Dense(units=2, activation='softmax'))\n",
    "\n",
    "    return model"
   ]
  },
  {
   "cell_type": "code",
   "execution_count": 56,
   "metadata": {},
   "outputs": [
    {
     "name": "stdout",
     "output_type": "stream",
     "text": [
      "Model: \"sequential_2\"\n",
      "_________________________________________________________________\n",
      " Layer (type)                Output Shape              Param #   \n",
      "=================================================================\n",
      " conv2d_6 (Conv2D)           (None, 56, 56, 96)        14208     \n",
      "                                                                 \n",
      " max_pooling2d_6 (MaxPooling  (None, 27, 27, 96)       0         \n",
      " 2D)                                                             \n",
      "                                                                 \n",
      " layer_normalization_6 (Laye  (None, 27, 27, 96)       192       \n",
      " rNormalization)                                                 \n",
      "                                                                 \n",
      " conv2d_7 (Conv2D)           (None, 27, 27, 256)       221440    \n",
      "                                                                 \n",
      " max_pooling2d_7 (MaxPooling  (None, 13, 13, 256)      0         \n",
      " 2D)                                                             \n",
      "                                                                 \n",
      " layer_normalization_7 (Laye  (None, 13, 13, 256)      512       \n",
      " rNormalization)                                                 \n",
      "                                                                 \n",
      " conv2d_8 (Conv2D)           (None, 13, 13, 384)       393600    \n",
      "                                                                 \n",
      " max_pooling2d_8 (MaxPooling  (None, 6, 6, 384)        0         \n",
      " 2D)                                                             \n",
      "                                                                 \n",
      " layer_normalization_8 (Laye  (None, 6, 6, 384)        768       \n",
      " rNormalization)                                                 \n",
      "                                                                 \n",
      " flatten_2 (Flatten)         (None, 13824)             0         \n",
      "                                                                 \n",
      " dense_6 (Dense)             (None, 512)               7078400   \n",
      "                                                                 \n",
      " dropout_4 (Dropout)         (None, 512)               0         \n",
      "                                                                 \n",
      " dense_7 (Dense)             (None, 256)               131328    \n",
      "                                                                 \n",
      " dropout_5 (Dropout)         (None, 256)               0         \n",
      "                                                                 \n",
      " dense_8 (Dense)             (None, 2)                 514       \n",
      "                                                                 \n",
      "=================================================================\n",
      "Total params: 7,840,962\n",
      "Trainable params: 7,840,962\n",
      "Non-trainable params: 0\n",
      "_________________________________________________________________\n"
     ]
    }
   ],
   "source": [
    "gender_model = create_gender_model()\n",
    "gender_model.summary()"
   ]
  },
  {
   "cell_type": "code",
   "execution_count": 57,
   "metadata": {},
   "outputs": [],
   "source": [
    "from tensorflow.keras.optimizers import Adam\n",
    "\n",
    "optimizer = Adam(learning_rate=0.0001)\n",
    "gender_model.compile(loss=\"categorical_crossentropy\", \n",
    "                     optimizer=optimizer, \n",
    "                     metrics=[\"categorical_accuracy\"])"
   ]
  },
  {
   "cell_type": "code",
   "execution_count": 58,
   "metadata": {},
   "outputs": [
    {
     "name": "stdout",
     "output_type": "stream",
     "text": [
      "Epoch 1/50\n",
      "349/349 [==============================] - 182s 513ms/step - loss: 0.7286 - categorical_accuracy: 0.5809 - val_loss: 0.5670 - val_categorical_accuracy: 0.7093\n",
      "Epoch 2/50\n",
      "349/349 [==============================] - 175s 502ms/step - loss: 0.5748 - categorical_accuracy: 0.6988 - val_loss: 0.5749 - val_categorical_accuracy: 0.6867\n",
      "Epoch 3/50\n",
      "349/349 [==============================] - 173s 497ms/step - loss: 0.4887 - categorical_accuracy: 0.7573 - val_loss: 0.3985 - val_categorical_accuracy: 0.8160\n",
      "Epoch 4/50\n",
      "349/349 [==============================] - 173s 496ms/step - loss: 0.3990 - categorical_accuracy: 0.8173 - val_loss: 0.3510 - val_categorical_accuracy: 0.8357\n",
      "Epoch 5/50\n",
      "349/349 [==============================] - 184s 528ms/step - loss: 0.3358 - categorical_accuracy: 0.8495 - val_loss: 0.3140 - val_categorical_accuracy: 0.8589\n",
      "Epoch 6/50\n",
      "349/349 [==============================] - 180s 515ms/step - loss: 0.2764 - categorical_accuracy: 0.8829 - val_loss: 0.2937 - val_categorical_accuracy: 0.8761\n",
      "Epoch 7/50\n",
      "349/349 [==============================] - 185s 529ms/step - loss: 0.2354 - categorical_accuracy: 0.8991 - val_loss: 0.3189 - val_categorical_accuracy: 0.8614\n",
      "Epoch 8/50\n",
      "349/349 [==============================] - 182s 523ms/step - loss: 0.1839 - categorical_accuracy: 0.9227 - val_loss: 0.3581 - val_categorical_accuracy: 0.8564\n",
      "Epoch 9/50\n",
      "349/349 [==============================] - 181s 518ms/step - loss: 0.1443 - categorical_accuracy: 0.9409 - val_loss: 0.2830 - val_categorical_accuracy: 0.8951\n",
      "Epoch 10/50\n",
      "349/349 [==============================] - 172s 494ms/step - loss: 0.1033 - categorical_accuracy: 0.9597 - val_loss: 0.3402 - val_categorical_accuracy: 0.8858\n",
      "Epoch 11/50\n",
      "349/349 [==============================] - 179s 514ms/step - loss: 0.0903 - categorical_accuracy: 0.9662 - val_loss: 0.3189 - val_categorical_accuracy: 0.8965\n",
      "Epoch 12/50\n",
      "349/349 [==============================] - 177s 506ms/step - loss: 0.0686 - categorical_accuracy: 0.9749 - val_loss: 0.3271 - val_categorical_accuracy: 0.9015\n",
      "Epoch 13/50\n",
      "349/349 [==============================] - 207s 595ms/step - loss: 0.0484 - categorical_accuracy: 0.9827 - val_loss: 0.3878 - val_categorical_accuracy: 0.8955\n",
      "Epoch 14/50\n",
      "349/349 [==============================] - 193s 554ms/step - loss: 0.0619 - categorical_accuracy: 0.9755 - val_loss: 0.3353 - val_categorical_accuracy: 0.8955\n"
     ]
    },
    {
     "data": {
      "text/plain": [
       "<keras.callbacks.History at 0x28d6944b550>"
      ]
     },
     "execution_count": 58,
     "metadata": {},
     "output_type": "execute_result"
    }
   ],
   "source": [
    "gender_model.fit(train_images_gender, y_train_gedner,\n",
    "                 epochs=50,\n",
    "                 batch_size=32,\n",
    "                 callbacks=[early_stopping],\n",
    "                 validation_split=0.2)"
   ]
  },
  {
   "cell_type": "code",
   "execution_count": 59,
   "metadata": {},
   "outputs": [
    {
     "name": "stdout",
     "output_type": "stream",
     "text": [
      "Test accuracy : 0.8965912346032655\n",
      "Train accuracy: 0.9750734188095409\n"
     ]
    }
   ],
   "source": [
    "from sklearn.metrics import accuracy_score\n",
    "print(f'Test accuracy : {accuracy_score(y_test_gender.argmax(1), gender_model.predict(test_images_gender).argmax(1))}' + '\\n' +\n",
    "      f'Train accuracy: {accuracy_score(y_train_gedner.argmax(1), gender_model.predict(train_images_gender).argmax(1))}')"
   ]
  },
  {
   "cell_type": "markdown",
   "metadata": {},
   "source": [
    "2. Train a model with a transfer learning using a VGG16 pretrained model\n"
   ]
  },
  {
   "cell_type": "code",
   "execution_count": 65,
   "metadata": {},
   "outputs": [],
   "source": [
    "from tensorflow.keras.applications import VGG16\n",
    "base_model = VGG16(weights='imagenet', include_top=False, input_shape=(224, 224, 3))\n",
    "\n",
    "#Freeze base_model, only train the top leayrs\n",
    "base_model.trainable = False"
   ]
  },
  {
   "cell_type": "code",
   "execution_count": 82,
   "metadata": {},
   "outputs": [],
   "source": [
    "from tensorflow.keras.models import Sequential\n",
    "from tensorflow.keras.layers import Conv2D, MaxPooling2D, Dropout, Flatten, Dense, LayerNormalization\n",
    "\n",
    "def create_transfer_gender_model():\n",
    "    model = Sequential()\n",
    "    model.add(Flatten())\n",
    "\n",
    "    model.add(Dense(units=256, activation='relu'))\n",
    "    model.add(Dropout(rate=0.15))\n",
    "\n",
    "    model.add(Dense(units=128, activation='relu'))\n",
    "    model.add(Dropout(rate=0.25))\n",
    "    \n",
    "    model.add(Dense(units=2, activation='softmax'))\n",
    "\n",
    "    return model"
   ]
  },
  {
   "cell_type": "code",
   "execution_count": 83,
   "metadata": {},
   "outputs": [],
   "source": [
    "transfer_gender_model = create_transfer_gender_model()"
   ]
  },
  {
   "cell_type": "code",
   "execution_count": 84,
   "metadata": {},
   "outputs": [
    {
     "name": "stdout",
     "output_type": "stream",
     "text": [
      "Model: \"sequential_13\"\n",
      "_________________________________________________________________\n",
      " Layer (type)                Output Shape              Param #   \n",
      "=================================================================\n",
      " vgg16 (Functional)          (None, 7, 7, 512)         14714688  \n",
      "                                                                 \n",
      " sequential_12 (Sequential)  (None, 2)                 6455938   \n",
      "                                                                 \n",
      "=================================================================\n",
      "Total params: 21,170,626\n",
      "Trainable params: 6,455,938\n",
      "Non-trainable params: 14,714,688\n",
      "_________________________________________________________________\n"
     ]
    }
   ],
   "source": [
    "transfer_model_gender = Sequential()\n",
    "transfer_model_gender.add(base_model)\n",
    "transfer_model_gender.add(transfer_gender_model)\n",
    "transfer_model_gender.summary()"
   ]
  },
  {
   "cell_type": "code",
   "execution_count": 86,
   "metadata": {},
   "outputs": [],
   "source": [
    "from tensorflow.keras.optimizers import Adam\n",
    "\n",
    "optimizer = Adam(learning_rate=0.001)\n",
    "transfer_model_gender.compile(loss=\"categorical_crossentropy\", \n",
    "                     optimizer=optimizer, \n",
    "                     metrics=[\"categorical_accuracy\"])"
   ]
  },
  {
   "cell_type": "code",
   "execution_count": 87,
   "metadata": {},
   "outputs": [
    {
     "name": "stdout",
     "output_type": "stream",
     "text": [
      "Epoch 1/50\n",
      "349/349 [==============================] - 1994s 6s/step - loss: 0.5683 - categorical_accuracy: 0.7402 - val_loss: 0.3672 - val_categorical_accuracy: 0.8382\n",
      "Epoch 2/50\n",
      "349/349 [==============================] - 1977s 6s/step - loss: 0.3857 - categorical_accuracy: 0.8198 - val_loss: 0.3343 - val_categorical_accuracy: 0.8500\n",
      "Epoch 3/50\n",
      "349/349 [==============================] - 2002s 6s/step - loss: 0.3307 - categorical_accuracy: 0.8471 - val_loss: 0.3262 - val_categorical_accuracy: 0.8525\n",
      "Epoch 4/50\n",
      "349/349 [==============================] - 1979s 6s/step - loss: 0.2673 - categorical_accuracy: 0.8741 - val_loss: 0.3244 - val_categorical_accuracy: 0.8528\n",
      "Epoch 5/50\n",
      "349/349 [==============================] - 1986s 6s/step - loss: 0.2294 - categorical_accuracy: 0.8956 - val_loss: 0.3215 - val_categorical_accuracy: 0.8654\n",
      "Epoch 6/50\n",
      "349/349 [==============================] - 2071s 6s/step - loss: 0.2110 - categorical_accuracy: 0.9026 - val_loss: 0.3663 - val_categorical_accuracy: 0.8747\n",
      "Epoch 7/50\n",
      "349/349 [==============================] - 2067s 6s/step - loss: 0.1979 - categorical_accuracy: 0.9129 - val_loss: 0.3990 - val_categorical_accuracy: 0.8622\n",
      "Epoch 8/50\n",
      "349/349 [==============================] - 2107s 6s/step - loss: 0.2038 - categorical_accuracy: 0.9106 - val_loss: 0.3776 - val_categorical_accuracy: 0.8668\n",
      "Epoch 9/50\n",
      "349/349 [==============================] - 2092s 6s/step - loss: 0.1655 - categorical_accuracy: 0.9240 - val_loss: 0.4015 - val_categorical_accuracy: 0.8665\n",
      "Epoch 10/50\n",
      "349/349 [==============================] - 2057s 6s/step - loss: 0.1611 - categorical_accuracy: 0.9258 - val_loss: 0.4196 - val_categorical_accuracy: 0.8650\n"
     ]
    },
    {
     "data": {
      "text/plain": [
       "<keras.callbacks.History at 0x28f35c6d9a0>"
      ]
     },
     "execution_count": 87,
     "metadata": {},
     "output_type": "execute_result"
    }
   ],
   "source": [
    "transfer_model_gender.fit(train_images_gender, y_train_gedner,\n",
    "                 epochs=50,\n",
    "                 batch_size=32,\n",
    "                 callbacks=[early_stopping],\n",
    "                 validation_split=0.2)"
   ]
  },
  {
   "cell_type": "code",
   "execution_count": 97,
   "metadata": {},
   "outputs": [
    {
     "name": "stdout",
     "output_type": "stream",
     "text": [
      "Test accuracy : 0.8733887138355771\n",
      "Train accuracy: 0.9442733328558126\n"
     ]
    }
   ],
   "source": [
    "from sklearn.metrics import accuracy_score\n",
    "print(f'Test accuracy : {accuracy_score(y_test_gender.argmax(1), transfer_model_gender.predict(test_images_gender).argmax(1))}' + '\\n' +\n",
    "      f'Train accuracy: {accuracy_score(y_train_gedner.argmax(1), transfer_model_gender.predict(train_images_gender).argmax(1))}')"
   ]
  },
  {
   "cell_type": "markdown",
   "metadata": {},
   "source": [
    "3. Create Age Model"
   ]
  },
  {
   "cell_type": "markdown",
   "metadata": {},
   "source": [
    "1. Create an age model base on traning dataset"
   ]
  },
  {
   "cell_type": "code",
   "execution_count": 60,
   "metadata": {},
   "outputs": [],
   "source": [
    "from tensorflow.keras.models import Sequential\n",
    "from tensorflow.keras.layers import Conv2D, MaxPooling2D, Dropout, Flatten, Dense, LayerNormalization\n",
    "\n",
    "def create_age_model():\n",
    "    model = Sequential()\n",
    "    model.add(Conv2D(filters=96, kernel_size=(7, 7), strides=4, padding='same', activation='relu', input_shape=(224, 224, 3)))\n",
    "    model.add(MaxPooling2D(pool_size=(3,3),strides=(2,2), padding='valid'))\n",
    "    model.add(LayerNormalization())\n",
    "\n",
    "    model.add(Conv2D(filters=256, kernel_size=(3, 3), strides=1, padding='same', activation='relu'))\n",
    "    model.add(MaxPooling2D(pool_size=(2,2),strides=(2,2), padding='valid'))\n",
    "    model.add(LayerNormalization())\n",
    "\n",
    "    model.add(Conv2D(filters=384, kernel_size=(2, 2), strides=1, padding='same', activation='relu'))\n",
    "    model.add(MaxPooling2D(pool_size=(2,2),strides=(2,2), padding='valid'))\n",
    "    model.add(LayerNormalization())\n",
    "\n",
    "    model.add(Flatten())\n",
    "\n",
    "    model.add(Dense(units=512, activation='relu'))\n",
    "    model.add(Dropout(rate=0.15))\n",
    "\n",
    "    model.add(Dense(units=256, activation='relu'))\n",
    "    model.add(Dropout(rate=0.25))\n",
    "    \n",
    "    model.add(Dense(units=8, activation='softmax'))\n",
    "\n",
    "    return model"
   ]
  },
  {
   "cell_type": "code",
   "execution_count": 61,
   "metadata": {},
   "outputs": [
    {
     "name": "stdout",
     "output_type": "stream",
     "text": [
      "Model: \"sequential_3\"\n",
      "_________________________________________________________________\n",
      " Layer (type)                Output Shape              Param #   \n",
      "=================================================================\n",
      " conv2d_9 (Conv2D)           (None, 56, 56, 96)        14208     \n",
      "                                                                 \n",
      " max_pooling2d_9 (MaxPooling  (None, 27, 27, 96)       0         \n",
      " 2D)                                                             \n",
      "                                                                 \n",
      " layer_normalization_9 (Laye  (None, 27, 27, 96)       192       \n",
      " rNormalization)                                                 \n",
      "                                                                 \n",
      " conv2d_10 (Conv2D)          (None, 27, 27, 128)       110720    \n",
      "                                                                 \n",
      " max_pooling2d_10 (MaxPoolin  (None, 13, 13, 128)      0         \n",
      " g2D)                                                            \n",
      "                                                                 \n",
      " layer_normalization_10 (Lay  (None, 13, 13, 128)      256       \n",
      " erNormalization)                                                \n",
      "                                                                 \n",
      " conv2d_11 (Conv2D)          (None, 13, 13, 256)       131328    \n",
      "                                                                 \n",
      " max_pooling2d_11 (MaxPoolin  (None, 6, 6, 256)        0         \n",
      " g2D)                                                            \n",
      "                                                                 \n",
      " layer_normalization_11 (Lay  (None, 6, 6, 256)        512       \n",
      " erNormalization)                                                \n",
      "                                                                 \n",
      " flatten_3 (Flatten)         (None, 9216)              0         \n",
      "                                                                 \n",
      " dense_9 (Dense)             (None, 512)               4719104   \n",
      "                                                                 \n",
      " dropout_6 (Dropout)         (None, 512)               0         \n",
      "                                                                 \n",
      " dense_10 (Dense)            (None, 256)               131328    \n",
      "                                                                 \n",
      " dropout_7 (Dropout)         (None, 256)               0         \n",
      "                                                                 \n",
      " dense_11 (Dense)            (None, 8)                 2056      \n",
      "                                                                 \n",
      "=================================================================\n",
      "Total params: 5,109,704\n",
      "Trainable params: 5,109,704\n",
      "Non-trainable params: 0\n",
      "_________________________________________________________________\n"
     ]
    }
   ],
   "source": [
    "age_model = create_age_model()\n",
    "age_model.summary()"
   ]
  },
  {
   "cell_type": "code",
   "execution_count": 62,
   "metadata": {},
   "outputs": [],
   "source": [
    "from tensorflow.keras.optimizers import Adam\n",
    "\n",
    "optimizer = Adam(learning_rate=0.0001)\n",
    "age_model.compile(loss=\"categorical_crossentropy\", \n",
    "                     optimizer=optimizer, \n",
    "                     metrics=[\"categorical_accuracy\"])"
   ]
  },
  {
   "cell_type": "code",
   "execution_count": 63,
   "metadata": {},
   "outputs": [
    {
     "name": "stdout",
     "output_type": "stream",
     "text": [
      "Epoch 1/50\n",
      "349/349 [==============================] - 120s 343ms/step - loss: 1.9818 - categorical_accuracy: 0.2718 - val_loss: 1.8653 - val_categorical_accuracy: 0.3265\n",
      "Epoch 2/50\n",
      "349/349 [==============================] - 121s 348ms/step - loss: 1.8513 - categorical_accuracy: 0.3096 - val_loss: 1.7397 - val_categorical_accuracy: 0.3491\n",
      "Epoch 3/50\n",
      "349/349 [==============================] - 124s 357ms/step - loss: 1.7149 - categorical_accuracy: 0.3582 - val_loss: 1.6641 - val_categorical_accuracy: 0.3713\n",
      "Epoch 4/50\n",
      "349/349 [==============================] - 129s 370ms/step - loss: 1.5834 - categorical_accuracy: 0.3988 - val_loss: 1.4782 - val_categorical_accuracy: 0.4382\n",
      "Epoch 5/50\n",
      "349/349 [==============================] - 130s 374ms/step - loss: 1.4355 - categorical_accuracy: 0.4459 - val_loss: 1.3704 - val_categorical_accuracy: 0.4844\n",
      "Epoch 6/50\n",
      "349/349 [==============================] - 129s 369ms/step - loss: 1.2936 - categorical_accuracy: 0.4995 - val_loss: 1.2725 - val_categorical_accuracy: 0.5138\n",
      "Epoch 7/50\n",
      "349/349 [==============================] - 127s 364ms/step - loss: 1.1426 - categorical_accuracy: 0.5588 - val_loss: 1.1883 - val_categorical_accuracy: 0.5503\n",
      "Epoch 8/50\n",
      "349/349 [==============================] - 120s 343ms/step - loss: 0.9894 - categorical_accuracy: 0.6185 - val_loss: 1.1836 - val_categorical_accuracy: 0.5646\n",
      "Epoch 9/50\n",
      "349/349 [==============================] - 120s 343ms/step - loss: 0.8052 - categorical_accuracy: 0.7038 - val_loss: 1.1086 - val_categorical_accuracy: 0.5940\n",
      "Epoch 10/50\n",
      "349/349 [==============================] - 128s 367ms/step - loss: 0.6123 - categorical_accuracy: 0.7775 - val_loss: 1.0753 - val_categorical_accuracy: 0.6187\n",
      "Epoch 11/50\n",
      "349/349 [==============================] - 126s 361ms/step - loss: 0.4453 - categorical_accuracy: 0.8473 - val_loss: 1.0533 - val_categorical_accuracy: 0.6373\n",
      "Epoch 12/50\n",
      "349/349 [==============================] - 126s 361ms/step - loss: 0.3087 - categorical_accuracy: 0.8973 - val_loss: 1.0848 - val_categorical_accuracy: 0.6402\n",
      "Epoch 13/50\n",
      "349/349 [==============================] - 125s 359ms/step - loss: 0.2026 - categorical_accuracy: 0.9386 - val_loss: 1.1027 - val_categorical_accuracy: 0.6513\n",
      "Epoch 14/50\n",
      "349/349 [==============================] - 125s 358ms/step - loss: 0.1323 - categorical_accuracy: 0.9623 - val_loss: 1.1675 - val_categorical_accuracy: 0.6602\n",
      "Epoch 15/50\n",
      "349/349 [==============================] - 121s 347ms/step - loss: 0.0997 - categorical_accuracy: 0.9703 - val_loss: 1.1987 - val_categorical_accuracy: 0.6599\n",
      "Epoch 16/50\n",
      "349/349 [==============================] - 124s 354ms/step - loss: 0.0889 - categorical_accuracy: 0.9746 - val_loss: 1.2543 - val_categorical_accuracy: 0.6602\n"
     ]
    },
    {
     "data": {
      "text/plain": [
       "<keras.callbacks.History at 0x28d247a3880>"
      ]
     },
     "execution_count": 63,
     "metadata": {},
     "output_type": "execute_result"
    }
   ],
   "source": [
    "age_model.fit(train_images_age, y_train_age,\n",
    "                 epochs=50,\n",
    "                 batch_size=32,\n",
    "                 callbacks=[early_stopping],\n",
    "                 validation_split=0.2)"
   ]
  },
  {
   "cell_type": "code",
   "execution_count": 64,
   "metadata": {},
   "outputs": [
    {
     "name": "stdout",
     "output_type": "stream",
     "text": [
      "Test accuracy : 0.6413635061586938\n",
      "Train accuracy: 0.9295179428407707\n"
     ]
    }
   ],
   "source": [
    "from sklearn.metrics import accuracy_score\n",
    "print(f'Test accuracy : {accuracy_score(y_test_age.argmax(1), age_model.predict(test_images_age).argmax(1))}' + '\\n' +\n",
    "      f'Train accuracy: {accuracy_score(y_train_age.argmax(1), age_model.predict(train_images_age).argmax(1))}')"
   ]
  },
  {
   "cell_type": "markdown",
   "metadata": {},
   "source": [
    "2. Train an age model with tranfser learning"
   ]
  },
  {
   "cell_type": "code",
   "execution_count": 88,
   "metadata": {},
   "outputs": [],
   "source": [
    "from tensorflow.keras.applications import VGG16\n",
    "base_model = VGG16(weights='imagenet', include_top=False, input_shape=(224, 224, 3))\n",
    "\n",
    "#Freeze base_model, only train the top leayrs\n",
    "base_model.trainable = False"
   ]
  },
  {
   "cell_type": "code",
   "execution_count": 89,
   "metadata": {},
   "outputs": [],
   "source": [
    "from tensorflow.keras.models import Sequential\n",
    "from tensorflow.keras.layers import Conv2D, MaxPooling2D, Dropout, Flatten, Dense\n",
    "\n",
    "def create_transfer_age_model():\n",
    "    model = Sequential()\n",
    "    model.add(Flatten())\n",
    "    model.add(Dense(units=256, activation='relu'))\n",
    "    model.add(Dropout(rate=0.25))\n",
    "    model.add(Dense(units=128, activation='relu'))\n",
    "    model.add(Dropout(rate=0.25))\n",
    "    model.add(Dense(units=8, activation='softmax'))\n",
    "\n",
    "    return model"
   ]
  },
  {
   "cell_type": "code",
   "execution_count": 90,
   "metadata": {},
   "outputs": [],
   "source": [
    "transfer_age_model = create_transfer_age_model()"
   ]
  },
  {
   "cell_type": "code",
   "execution_count": 91,
   "metadata": {},
   "outputs": [
    {
     "name": "stdout",
     "output_type": "stream",
     "text": [
      "Model: \"sequential_15\"\n",
      "_________________________________________________________________\n",
      " Layer (type)                Output Shape              Param #   \n",
      "=================================================================\n",
      " vgg16 (Functional)          (None, 7, 7, 512)         14714688  \n",
      "                                                                 \n",
      " sequential_14 (Sequential)  (None, 8)                 6456712   \n",
      "                                                                 \n",
      "=================================================================\n",
      "Total params: 21,171,400\n",
      "Trainable params: 6,456,712\n",
      "Non-trainable params: 14,714,688\n",
      "_________________________________________________________________\n"
     ]
    }
   ],
   "source": [
    "transfer_model_age = Sequential()\n",
    "transfer_model_age.add(base_model)\n",
    "transfer_model_age.add(transfer_age_model)\n",
    "transfer_model_age.summary()"
   ]
  },
  {
   "cell_type": "code",
   "execution_count": 92,
   "metadata": {},
   "outputs": [],
   "source": [
    "from tensorflow.keras.optimizers import Adam\n",
    "\n",
    "optimizer = Adam(learning_rate=0.001)\n",
    "transfer_model_age.compile(loss=\"categorical_crossentropy\", \n",
    "                     optimizer=optimizer, \n",
    "                     metrics=[\"categorical_accuracy\"])"
   ]
  },
  {
   "cell_type": "code",
   "execution_count": 93,
   "metadata": {},
   "outputs": [
    {
     "name": "stdout",
     "output_type": "stream",
     "text": [
      "Epoch 1/50\n",
      "393/393 [==============================] - 2016s 5s/step - loss: 1.7873 - categorical_accuracy: 0.3355 - val_loss: 1.4758 - val_categorical_accuracy: 0.4209\n",
      "Epoch 2/50\n",
      "393/393 [==============================] - 2006s 5s/step - loss: 1.5408 - categorical_accuracy: 0.4001 - val_loss: 1.4393 - val_categorical_accuracy: 0.4488\n",
      "Epoch 3/50\n",
      "393/393 [==============================] - 2009s 5s/step - loss: 1.4492 - categorical_accuracy: 0.4291 - val_loss: 1.3421 - val_categorical_accuracy: 0.4588\n",
      "Epoch 4/50\n",
      "393/393 [==============================] - 2017s 5s/step - loss: 1.3800 - categorical_accuracy: 0.4407 - val_loss: 1.3417 - val_categorical_accuracy: 0.4517\n",
      "Epoch 5/50\n",
      "393/393 [==============================] - 2028s 5s/step - loss: 1.3340 - categorical_accuracy: 0.4530 - val_loss: 1.3446 - val_categorical_accuracy: 0.4431\n",
      "Epoch 6/50\n",
      "393/393 [==============================] - 2010s 5s/step - loss: 1.2785 - categorical_accuracy: 0.4736 - val_loss: 1.2572 - val_categorical_accuracy: 0.4982\n",
      "Epoch 7/50\n",
      "393/393 [==============================] - 2024s 5s/step - loss: 1.2309 - categorical_accuracy: 0.4846 - val_loss: 1.3401 - val_categorical_accuracy: 0.4374\n",
      "Epoch 8/50\n",
      "393/393 [==============================] - 2023s 5s/step - loss: 1.1914 - categorical_accuracy: 0.4960 - val_loss: 1.2408 - val_categorical_accuracy: 0.5075\n",
      "Epoch 9/50\n",
      "393/393 [==============================] - 2041s 5s/step - loss: 1.1724 - categorical_accuracy: 0.5076 - val_loss: 1.2549 - val_categorical_accuracy: 0.4911\n",
      "Epoch 10/50\n",
      "393/393 [==============================] - 2031s 5s/step - loss: 1.1363 - categorical_accuracy: 0.5123 - val_loss: 1.2408 - val_categorical_accuracy: 0.5039\n",
      "Epoch 11/50\n",
      "393/393 [==============================] - 2036s 5s/step - loss: 1.0800 - categorical_accuracy: 0.5435 - val_loss: 1.2406 - val_categorical_accuracy: 0.5140\n",
      "Epoch 12/50\n",
      "393/393 [==============================] - 2040s 5s/step - loss: 1.0453 - categorical_accuracy: 0.5616 - val_loss: 1.2497 - val_categorical_accuracy: 0.5225\n",
      "Epoch 13/50\n",
      "393/393 [==============================] - 2043s 5s/step - loss: 1.0350 - categorical_accuracy: 0.5716 - val_loss: 1.2594 - val_categorical_accuracy: 0.5140\n",
      "Epoch 14/50\n",
      "393/393 [==============================] - 2044s 5s/step - loss: 1.0054 - categorical_accuracy: 0.5875 - val_loss: 1.3844 - val_categorical_accuracy: 0.5247\n",
      "Epoch 15/50\n",
      "393/393 [==============================] - 2051s 5s/step - loss: 0.9754 - categorical_accuracy: 0.5946 - val_loss: 1.3013 - val_categorical_accuracy: 0.5039\n",
      "Epoch 16/50\n",
      "393/393 [==============================] - 2070s 5s/step - loss: 0.9446 - categorical_accuracy: 0.6047 - val_loss: 1.3029 - val_categorical_accuracy: 0.5283\n"
     ]
    },
    {
     "data": {
      "text/plain": [
       "<keras.callbacks.History at 0x28f360ee280>"
      ]
     },
     "execution_count": 93,
     "metadata": {},
     "output_type": "execute_result"
    }
   ],
   "source": [
    "transfer_model_age.fit(train_images_age, y_train_age,\n",
    "                 epochs=50,\n",
    "                 batch_size=32,\n",
    "                 callbacks=[early_stopping],\n",
    "                 validation_split=0.1)"
   ]
  },
  {
   "cell_type": "code",
   "execution_count": 94,
   "metadata": {},
   "outputs": [
    {
     "name": "stdout",
     "output_type": "stream",
     "text": [
      "The history saving thread hit an unexpected error (OperationalError('database or disk is full')).History will not be written to the database.\n",
      "Test accuracy : 0.5161844743626468\n",
      "Train accuracy: 0.7576104863548456\n"
     ]
    }
   ],
   "source": [
    "from sklearn.metrics import accuracy_score\n",
    "print(f'Test accuracy : {accuracy_score(y_test_age.argmax(1), transfer_model_age.predict(test_images_age).argmax(1))}' + '\\n' +\n",
    "      f'Train accuracy: {accuracy_score(y_train_age.argmax(1), transfer_model_age.predict(train_images_age).argmax(1))}')"
   ]
  },
  {
   "cell_type": "markdown",
   "metadata": {},
   "source": [
    "# Save gender and age models"
   ]
  },
  {
   "cell_type": "code",
   "execution_count": 168,
   "metadata": {},
   "outputs": [],
   "source": [
    "transfer_model_gender.save('ml_model/gender_model.h5')\n",
    "transfer_model_age.save('ml_model/age_model.h5')"
   ]
  }
 ],
 "metadata": {
  "interpreter": {
   "hash": "34e7097143a4bbeb644b1636d7c488b335524c25918bb77f349162bb29d7a115"
  },
  "kernelspec": {
   "display_name": "Python 3.9.10 ('gda_env': venv)",
   "language": "python",
   "name": "python3"
  },
  "language_info": {
   "codemirror_mode": {
    "name": "ipython",
    "version": 3
   },
   "file_extension": ".py",
   "mimetype": "text/x-python",
   "name": "python",
   "nbconvert_exporter": "python",
   "pygments_lexer": "ipython3",
   "version": "3.9.10"
  },
  "orig_nbformat": 4
 },
 "nbformat": 4,
 "nbformat_minor": 2
}
